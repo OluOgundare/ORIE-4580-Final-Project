{
  "cells": [
    {
      "cell_type": "markdown",
      "id": "b5af7e06-fc60-4759-9f3c-eca882b4fbf5",
      "metadata": {},
      "source": [
        "# Homework 7 *\\[handout\\]*"
      ],
      "outputs": [],
      "execution_count": null
    },
    {
      "cell_type": "code",
      "execution_count": null,
      "id": "64e5c978-cda6-4ed7-9402-b678dd06e273",
      "metadata": {},
      "outputs": [],
      "source": [
        "from dataclasses import dataclass\n",
        "import enum\n",
        "\n",
        "import numpy as np\n",
        "import matplotlib.pyplot as plt\n",
        "\n",
        "# your additional imports here"
      ]
    },
    {
      "cell_type": "code",
      "execution_count": null,
      "id": "69782990-56da-4384-817b-75762990c07c",
      "metadata": {},
      "outputs": [],
      "source": [
        "RNG = np.random.default_rng()\n",
        "\n",
        "# your additional global initialization here"
      ]
    },
    {
      "cell_type": "markdown",
      "id": "33371b8f-37ed-49a2-b2fd-5c4a879f59c6",
      "metadata": {},
      "source": [
        "## Background"
      ],
      "outputs": [],
      "execution_count": null
    },
    {
      "cell_type": "markdown",
      "id": "215902e5-dfb0-4457-8ca3-2a48aaef79d7",
      "metadata": {},
      "source": [
        "In this homework, you will implement an initial version of the model \n",
        "\n",
        "Some special considerations for this homework:\n",
        "\n",
        "- **This is a group assignment.** Each project team only has to turn in one assignment.\n",
        "- **Each problem will be graded just for completion**. This is more of a project check-in than a homework with right and wrong answers. We won't be checking all of the details of your code, and coming up with tests that your code is working correctly is part of your job. We will be looking to see that you have some of those tests (and we'll provide a few suggestions).\n",
        "- **The problems are somewhat open-ended.** You'll have to make decisions yourself. Feel free to change provided code if you like (even if it's in \"CODE\" sections instead of \"ANSWER\" sections)."
      ],
      "outputs": [],
      "execution_count": null
    },
    {
      "cell_type": "markdown",
      "id": "7aa48e04-e3c4-4bc9-9485-a3f0afcb7a3a",
      "metadata": {},
      "source": [
        "## \u00a71. Implementing generic Markov chain simulations"
      ],
      "outputs": [],
      "execution_count": null
    },
    {
      "cell_type": "markdown",
      "id": "9117b7d7-e2c4-4928-a83b-6f48236c1077",
      "metadata": {},
      "source": [
        "Below is a generic interface representing the state of a continuous-time Markov chain. It has two methods:\n",
        "\n",
        "- `transition_rate`: *total* rate of transitions out of that state.\n",
        "- `sample_next`: randomly generate the state that comes after this one.\n",
        "\n",
        "See the `QueueModel` code for an example of implementing these methods for a queueing model (customers arrive at rate `rate_arrival` and are served at rate `rate_service`).\n",
        "\n",
        "Also find below a function `run_dtmc` that simulates the \"discrete-time version\" of a Markov chain from a given starting state, using only `sample_next`.\n",
        "\n",
        "> Implement `run_ctmc` to simulate a continuous-time Markov chain from a given starting state.\n",
        ">\n",
        "> - The output should be of the same type as `run_dtmc`: a list of `(time, state)` pairs.\n",
        ">     - But, unlike `run_dtmc`, the times should be floats, not just consecutive integers.\n",
        "> - Make sure your function works by plotting at least one example usage on `QueueModel`.\n",
        ">\n",
        "> *Hint.* Read the docs for `numpy.Generator.exponential` to make sure you pass it the right value!"
      ],
      "outputs": [],
      "execution_count": null
    },
    {
      "cell_type": "markdown",
      "id": "7a3404fb-959d-49b9-8525-8016dd44cfeb",
      "metadata": {},
      "source": [
        "#### CODE: `Model` interface"
      ],
      "outputs": [],
      "execution_count": null
    },
    {
      "cell_type": "code",
      "execution_count": null,
      "id": "9342c7be-b3e2-4a13-b5d1-c14323c1196a",
      "metadata": {},
      "outputs": [],
      "source": [
        "class Model:\n",
        "\n",
        "    def transition_rate(self, state):\n",
        "        \"\"\"Total transition rate out of the given state\"\"\"\n",
        "        raise NotImplementedError\n",
        "\n",
        "    def sample_next(self, state):\n",
        "        \"\"\"Generates a random state to come after the given state\"\"\"\n",
        "        raise NotImplementedError"
      ]
    },
    {
      "cell_type": "markdown",
      "id": "bcf2b6e0-328f-4b48-bf42-f1599ac877df",
      "metadata": {},
      "source": [
        "#### CODE: simulating *discrete-time* Markov chains"
      ],
      "outputs": [],
      "execution_count": null
    },
    {
      "cell_type": "code",
      "execution_count": null,
      "id": "8405ef86-f8ab-4bf7-9163-25d6bb06f04f",
      "metadata": {},
      "outputs": [],
      "source": [
        "def run_dtmc(model: Model, state_init, n_steps=256):\n",
        "    path = [state_init]\n",
        "    for i in range(n_steps):\n",
        "        path.append(model.sample_next(path[-1]))\n",
        "    # Return a list of (time, state) pairs\n",
        "    # This simulation is discrete-time, so time is an integer\n",
        "    return list(enumerate(path))"
      ]
    },
    {
      "cell_type": "markdown",
      "id": "898cfa98-45b1-4759-a3a9-23d3b847aba6",
      "metadata": {},
      "source": [
        "#### CODE: `QueueModel` example"
      ],
      "outputs": [],
      "execution_count": null
    },
    {
      "cell_type": "code",
      "execution_count": null,
      "id": "39b393fb-5f9f-433e-9fc2-3c9b86d95dd4",
      "metadata": {},
      "outputs": [],
      "source": [
        "@dataclass\n",
        "class QueueModel(Model):\n",
        "    \"\"\"Model of a queue\n",
        "\n",
        "    The state is the number of customers currently in the queue.\n",
        "\n",
        "    Parameters\n",
        "    ----------\n",
        "    rate_arrival: float\n",
        "        Rate at which customers arrive at the queue.\n",
        "\n",
        "    rate_service: float\n",
        "        Rate at which customers leave the queue when it is nonempty.\n",
        "    \"\"\"\n",
        "\n",
        "    rate_arrival: float\n",
        "    rate_service: float\n",
        "\n",
        "    def transition_rate(self, state: int):\n",
        "        if state == 0:\n",
        "            return self.rate_arrival\n",
        "        else:\n",
        "            return self.rate_arrival + self.rate_service\n",
        "\n",
        "    def sample_next(self, state: int):\n",
        "        if RNG.random() < self.rate_arrival / self.transition_rate(state):\n",
        "            return state + 1\n",
        "        else:\n",
        "            return state - 1"
      ]
    },
    {
      "cell_type": "code",
      "execution_count": null,
      "id": "924cfdb4-11ae-4dc7-9667-1de7b9376f9d",
      "metadata": {},
      "outputs": [],
      "source": [
        "def visualize_queue_path(path):\n",
        "    plt.plot(*np.asarray(path).T)"
      ]
    },
    {
      "cell_type": "code",
      "execution_count": null,
      "id": "711fdeb9-5007-48d9-97b8-0bc0d78fb81c",
      "metadata": {},
      "outputs": [],
      "source": [
        "visualize_queue_path(run_dtmc(QueueModel(5, 6), 0))"
      ]
    },
    {
      "cell_type": "markdown",
      "id": "5aaa5e10-7c1b-4b88-b831-3765025c2782",
      "metadata": {},
      "source": [
        "## \u00a72. Implementing initial model for the project"
      ],
      "outputs": [],
      "execution_count": null
    },
    {
      "cell_type": "markdown",
      "id": "061bb664-6836-4582-9723-6ab4c6910011",
      "metadata": {},
      "source": [
        "> Implement an initial model, following exactly the dynamics outlined in Section 2 (excluding \"Additional factors to consider\").\n",
        ">\n",
        "> Test your code at least once using `run_ctmc`. Ideally, you'd run some tests that verify your implementation is correct. (For example, if your system converges towards some steady-state behavior, if you quadruple all the transition rates, do you converge to steady-state four times faster?)\n",
        ">\n",
        "> Some code is provided for you, but you should feel to change any or all of it."
      ],
      "outputs": [],
      "execution_count": null
    },
    {
      "cell_type": "markdown",
      "id": "f835540b-fe4d-443e-a641-ccb49009b64c",
      "metadata": {},
      "source": [
        "## \u00a73. Implementing a more extensible model for the project"
      ],
      "outputs": [],
      "execution_count": null
    },
    {
      "cell_type": "markdown",
      "id": "93a3a2ad-d813-486c-9cfd-80cd757b36c9",
      "metadata": {},
      "source": [
        "As you add more features to the model, it might help to make the state more detailed. For example, if you follow the suggestion to model seniority of employees, you need to know when each employee joined the company and/or was last promoted.\n",
        "\n",
        "> Implement a class `ComplexWorkplaceState` that represents the state in a more detailed way. For each level, keep a list of employees with some information about each employee: their gender/identity, when they joined the company, etc.\n",
        ">\n",
        "> Test your code by comparing its output to that of `SimpleWorkplaceModel`. For now, aim to get the *exact same dynamics* as the simple model in the following sense: `simulation_0` and `simulation_1` in the code samples below should be equivalent.\n",
        ">\n",
        "> Some code is provided for you, but you should feel to change any or all of it.\n",
        "\n",
        "Code samples with the two simulations that should be equivalent:\n",
        "```\n",
        "params = WorkplaceParams(...)\n",
        "\n",
        "complex_model = ComplexWorkplaceModel(params)\n",
        "complex_state_init = ComplexWorkplaceState(...)\n",
        "complex_path = run_ctmc(complex_model, complex_state_init)\n",
        "simulation_0 = [(t, s.to_simple_state()) for (t, s) in complex_path]\n",
        "\n",
        "simple_model = SimpleWorkplaceModel(params)\n",
        "simple_state_init = complex_state_init.to_simple_state()\n",
        "simple_path = run_ctmc(simple_model, simple_state_init)\n",
        "simulation_1 = simple_path\n",
        "```"
      ],
      "outputs": [],
      "execution_count": null
    }
  ],
  "metadata": {
    "kernelspec": {
      "display_name": "Python 3 (ipykernel)",
      "language": "python",
      "name": "python3"
    },
    "language_info": {
      "codemirror_mode": {
        "name": "ipython",
        "version": 3
      },
      "file_extension": ".py",
      "mimetype": "text/x-python",
      "name": "python",
      "nbconvert_exporter": "python",
      "pygments_lexer": "ipython3",
      "version": "3.12.3"
    }
  },
  "nbformat": 4,
  "nbformat_minor": 5
}